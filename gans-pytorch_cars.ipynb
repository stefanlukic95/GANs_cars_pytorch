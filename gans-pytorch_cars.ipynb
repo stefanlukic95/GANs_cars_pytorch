{
 "cells": [
  {
   "cell_type": "code",
   "execution_count": 1,
   "metadata": {
    "collapsed": true,
    "execution": {
     "iopub.execute_input": "2022-01-20T16:02:47.135794Z",
     "iopub.status.busy": "2022-01-20T16:02:47.135313Z",
     "iopub.status.idle": "2022-01-20T16:03:24.683513Z",
     "shell.execute_reply": "2022-01-20T16:03:24.682476Z",
     "shell.execute_reply.started": "2022-01-20T16:02:47.135705Z"
    },
    "jupyter": {
     "outputs_hidden": true
    }
   },
   "outputs": [],
   "source": [
    "# This Python 3 environment comes with many helpful analytics libraries installed\n",
    "# It is defined by the kaggle/python Docker image: https://github.com/kaggle/docker-python\n",
    "# For example, here's several helpful packages to load\n",
    "\n",
    "import numpy as np # linear algebra\n",
    "import pandas as pd # data processing, CSV file I/O (e.g. pd.read_csv)\n",
    "\n",
    "# Input data files are available in the read-only \"../input/\" directory\n",
    "# For example, running this (by clicking run or pressing Shift+Enter) will list all files under the input directory\n",
    "\n",
    "import os\n",
    "for dirname, _, filenames in os.walk('/kaggle/input'):\n",
    "    for filename in filenames:\n",
    "        print(os.path.join(dirname, filename))\n",
    "\n",
    "# You can write up to 20GB to the current directory (/kaggle/working/) that gets preserved as output when you create a version using \"Save & Run All\" \n",
    "# You can also write temporary files to /kaggle/temp/, but they won't be saved outside of the current session"
   ]
  },
  {
   "cell_type": "code",
   "execution_count": 3,
   "metadata": {
    "execution": {
     "iopub.execute_input": "2022-01-20T16:04:42.350316Z",
     "iopub.status.busy": "2022-01-20T16:04:42.350058Z",
     "iopub.status.idle": "2022-01-20T16:04:42.354187Z",
     "shell.execute_reply": "2022-01-20T16:04:42.353400Z",
     "shell.execute_reply.started": "2022-01-20T16:04:42.350287Z"
    }
   },
   "outputs": [],
   "source": [
    "DATA_DIR = '../input/'"
   ]
  },
  {
   "cell_type": "code",
   "execution_count": 4,
   "metadata": {
    "execution": {
     "iopub.execute_input": "2022-01-20T16:04:42.689364Z",
     "iopub.status.busy": "2022-01-20T16:04:42.688834Z",
     "iopub.status.idle": "2022-01-20T16:04:42.694677Z",
     "shell.execute_reply": "2022-01-20T16:04:42.693824Z",
     "shell.execute_reply.started": "2022-01-20T16:04:42.689325Z"
    }
   },
   "outputs": [],
   "source": [
    "import os\n",
    "\n",
    "print(os.listdir(DATA_DIR))"
   ]
  },
  {
   "cell_type": "code",
   "execution_count": 5,
   "metadata": {
    "execution": {
     "iopub.execute_input": "2022-01-20T16:04:44.739925Z",
     "iopub.status.busy": "2022-01-20T16:04:44.739338Z",
     "iopub.status.idle": "2022-01-20T16:04:46.325256Z",
     "shell.execute_reply": "2022-01-20T16:04:46.324529Z",
     "shell.execute_reply.started": "2022-01-20T16:04:44.739883Z"
    }
   },
   "outputs": [],
   "source": [
    "from torch.utils.data import DataLoader\n",
    "from torchvision.datasets import ImageFolder\n",
    "import torchvision.transforms as T\n",
    "\n",
    "image_size = 64\n",
    "batch_size = 128\n",
    "stats = (0.5, 0.5, 0.5), (0.5, 0.5, 0.5)"
   ]
  },
  {
   "cell_type": "code",
   "execution_count": 6,
   "metadata": {
    "execution": {
     "iopub.execute_input": "2022-01-20T16:04:46.327112Z",
     "iopub.status.busy": "2022-01-20T16:04:46.326842Z",
     "iopub.status.idle": "2022-01-20T16:05:41.232087Z",
     "shell.execute_reply": "2022-01-20T16:05:41.231381Z",
     "shell.execute_reply.started": "2022-01-20T16:04:46.327075Z"
    }
   },
   "outputs": [],
   "source": [
    "train_ds = ImageFolder(DATA_DIR, transform=T.Compose([\n",
    "    T.Resize(image_size),\n",
    "    T.CenterCrop(image_size),\n",
    "    T.ToTensor(),\n",
    "    T.Normalize(*stats)]))\n",
    "\n",
    "train_dl = DataLoader(train_ds, batch_size, shuffle=True, num_workers=2, pin_memory=True)"
   ]
  },
  {
   "cell_type": "code",
   "execution_count": 7,
   "metadata": {
    "execution": {
     "iopub.execute_input": "2022-01-20T16:05:41.233579Z",
     "iopub.status.busy": "2022-01-20T16:05:41.233317Z",
     "iopub.status.idle": "2022-01-20T16:05:41.324187Z",
     "shell.execute_reply": "2022-01-20T16:05:41.323531Z",
     "shell.execute_reply.started": "2022-01-20T16:05:41.233546Z"
    }
   },
   "outputs": [],
   "source": [
    "train_ds[0]"
   ]
  },
  {
   "cell_type": "code",
   "execution_count": 8,
   "metadata": {
    "execution": {
     "iopub.execute_input": "2022-01-20T16:05:44.338445Z",
     "iopub.status.busy": "2022-01-20T16:05:44.338186Z",
     "iopub.status.idle": "2022-01-20T16:05:44.342982Z",
     "shell.execute_reply": "2022-01-20T16:05:44.342301Z",
     "shell.execute_reply.started": "2022-01-20T16:05:44.338415Z"
    }
   },
   "outputs": [],
   "source": [
    "def denorm(x):\n",
    "    return x*stats[1][0] + stats[0][0]"
   ]
  },
  {
   "cell_type": "code",
   "execution_count": 9,
   "metadata": {
    "execution": {
     "iopub.execute_input": "2022-01-20T16:05:44.573891Z",
     "iopub.status.busy": "2022-01-20T16:05:44.573176Z",
     "iopub.status.idle": "2022-01-20T16:05:44.579690Z",
     "shell.execute_reply": "2022-01-20T16:05:44.578892Z",
     "shell.execute_reply.started": "2022-01-20T16:05:44.573848Z"
    }
   },
   "outputs": [],
   "source": [
    "import torch\n",
    "from torchvision.utils import make_grid\n",
    "import matplotlib.pyplot as plt\n",
    "%matplotlib inline"
   ]
  },
  {
   "cell_type": "code",
   "execution_count": 10,
   "metadata": {
    "execution": {
     "iopub.execute_input": "2022-01-20T16:05:44.948600Z",
     "iopub.status.busy": "2022-01-20T16:05:44.947768Z",
     "iopub.status.idle": "2022-01-20T16:05:44.955121Z",
     "shell.execute_reply": "2022-01-20T16:05:44.954227Z",
     "shell.execute_reply.started": "2022-01-20T16:05:44.948545Z"
    }
   },
   "outputs": [],
   "source": [
    "def show_images(images, nmax=64):\n",
    "    fig, ax = plt.subplots(figsize=(8, 8))\n",
    "    ax.set_xticks([]); ax.set_yticks([])\n",
    "    ax.imshow(make_grid(denorm(images.detach()[:nmax]), nrow=8).permute(1, 2, 0))\n",
    "\n",
    "def show_batch(dl, nmax=64):\n",
    "    for images, _ in dl:\n",
    "        show_images(images, nmax)\n",
    "        break"
   ]
  },
  {
   "cell_type": "code",
   "execution_count": 11,
   "metadata": {
    "execution": {
     "iopub.execute_input": "2022-01-20T16:05:46.703244Z",
     "iopub.status.busy": "2022-01-20T16:05:46.702633Z",
     "iopub.status.idle": "2022-01-20T16:05:52.084419Z",
     "shell.execute_reply": "2022-01-20T16:05:52.083741Z",
     "shell.execute_reply.started": "2022-01-20T16:05:46.703207Z"
    }
   },
   "outputs": [],
   "source": [
    "show_batch(train_dl)"
   ]
  },
  {
   "cell_type": "code",
   "execution_count": 12,
   "metadata": {
    "execution": {
     "iopub.execute_input": "2022-01-20T16:05:53.809521Z",
     "iopub.status.busy": "2022-01-20T16:05:53.809126Z",
     "iopub.status.idle": "2022-01-20T16:05:53.817736Z",
     "shell.execute_reply": "2022-01-20T16:05:53.816907Z",
     "shell.execute_reply.started": "2022-01-20T16:05:53.809457Z"
    }
   },
   "outputs": [],
   "source": [
    "def get_default_device():\n",
    "    \"\"\"Pick GPU if available, else CPU\"\"\"\n",
    "    if torch.cuda.is_available():\n",
    "        return torch.device('cuda')\n",
    "    else:\n",
    "        return torch.device('cpu')\n",
    "    \n",
    "def to_device(data, device):\n",
    "    \"\"\"Move tensor(s) to chosen device\"\"\"\n",
    "    if isinstance(data, (list,tuple)):\n",
    "        return [to_device(x, device) for x in data]\n",
    "    return data.to(device, non_blocking=True)\n",
    "\n",
    "class DeviceDataLoader():\n",
    "    \"\"\"Wrap a dataloader to move data to a device\"\"\"\n",
    "    def __init__(self, dl, device):\n",
    "        self.dl = dl\n",
    "        self.device = device\n",
    "        \n",
    "    def __iter__(self):\n",
    "        \"\"\"Yield a batch of data after moving it to device\"\"\"\n",
    "        for b in self.dl: \n",
    "            yield to_device(b, self.device)\n",
    "\n",
    "    def __len__(self):\n",
    "        \"\"\"Number of batches\"\"\"\n",
    "        return len(self.dl)"
   ]
  },
  {
   "cell_type": "code",
   "execution_count": 13,
   "metadata": {
    "execution": {
     "iopub.execute_input": "2022-01-20T16:05:55.374104Z",
     "iopub.status.busy": "2022-01-20T16:05:55.373846Z",
     "iopub.status.idle": "2022-01-20T16:05:55.379418Z",
     "shell.execute_reply": "2022-01-20T16:05:55.378783Z",
     "shell.execute_reply.started": "2022-01-20T16:05:55.374074Z"
    }
   },
   "outputs": [],
   "source": [
    "device = get_default_device()\n",
    "device"
   ]
  },
  {
   "cell_type": "code",
   "execution_count": 14,
   "metadata": {
    "execution": {
     "iopub.execute_input": "2022-01-20T16:05:56.858768Z",
     "iopub.status.busy": "2022-01-20T16:05:56.858045Z",
     "iopub.status.idle": "2022-01-20T16:05:56.862792Z",
     "shell.execute_reply": "2022-01-20T16:05:56.861901Z",
     "shell.execute_reply.started": "2022-01-20T16:05:56.858730Z"
    }
   },
   "outputs": [],
   "source": [
    "train_dl = DeviceDataLoader(train_dl, device)"
   ]
  },
  {
   "cell_type": "code",
   "execution_count": 15,
   "metadata": {
    "execution": {
     "iopub.execute_input": "2022-01-20T16:05:59.963053Z",
     "iopub.status.busy": "2022-01-20T16:05:59.962784Z",
     "iopub.status.idle": "2022-01-20T16:05:59.966789Z",
     "shell.execute_reply": "2022-01-20T16:05:59.965952Z",
     "shell.execute_reply.started": "2022-01-20T16:05:59.963021Z"
    }
   },
   "outputs": [],
   "source": [
    "import torch.nn as nn"
   ]
  },
  {
   "cell_type": "code",
   "execution_count": 16,
   "metadata": {
    "execution": {
     "iopub.execute_input": "2022-01-20T16:06:00.202849Z",
     "iopub.status.busy": "2022-01-20T16:06:00.202554Z",
     "iopub.status.idle": "2022-01-20T16:06:00.235103Z",
     "shell.execute_reply": "2022-01-20T16:06:00.234424Z",
     "shell.execute_reply.started": "2022-01-20T16:06:00.202819Z"
    }
   },
   "outputs": [],
   "source": [
    "discriminator = nn.Sequential(\n",
    "        nn.Conv2d(3,64, kernel_size=4, stride=2, padding=1,bias=False),\n",
    "        nn.BatchNorm2d(64),\n",
    "        nn.LeakyReLU(0.2),\n",
    "        \n",
    "        nn.Conv2d(64,128, kernel_size=4, stride=2, padding=1, bias=False),\n",
    "        nn.BatchNorm2d(128),\n",
    "        nn.LeakyReLU(0.2),\n",
    "    \n",
    "        nn.Conv2d(128,256, kernel_size=4, stride=2, padding=1, bias=False),\n",
    "        nn.BatchNorm2d(256),\n",
    "        nn.LeakyReLU(0.2),\n",
    "    \n",
    "        nn.Conv2d(256,512, kernel_size=4, stride=2, padding=1, bias=False),\n",
    "        nn.BatchNorm2d(512),\n",
    "        nn.LeakyReLU(0.2),\n",
    "    \n",
    "        nn.Conv2d(512, 1, kernel_size=4, stride=1, padding=0, bias=False),\n",
    "        nn.Flatten(),\n",
    "        nn.Sigmoid()\n",
    ")"
   ]
  },
  {
   "cell_type": "code",
   "execution_count": 17,
   "metadata": {
    "execution": {
     "iopub.execute_input": "2022-01-20T16:06:00.935218Z",
     "iopub.status.busy": "2022-01-20T16:06:00.934448Z",
     "iopub.status.idle": "2022-01-20T16:06:00.955210Z",
     "shell.execute_reply": "2022-01-20T16:06:00.954442Z",
     "shell.execute_reply.started": "2022-01-20T16:06:00.935176Z"
    }
   },
   "outputs": [],
   "source": [
    "discriminator = to_device(discriminator,device)\n",
    "discriminator"
   ]
  },
  {
   "cell_type": "code",
   "execution_count": 18,
   "metadata": {
    "execution": {
     "iopub.execute_input": "2022-01-20T16:06:01.767501Z",
     "iopub.status.busy": "2022-01-20T16:06:01.767214Z",
     "iopub.status.idle": "2022-01-20T16:06:01.771623Z",
     "shell.execute_reply": "2022-01-20T16:06:01.770366Z",
     "shell.execute_reply.started": "2022-01-20T16:06:01.767452Z"
    }
   },
   "outputs": [],
   "source": [
    "latent_size=128"
   ]
  },
  {
   "cell_type": "code",
   "execution_count": 19,
   "metadata": {
    "execution": {
     "iopub.execute_input": "2022-01-20T16:06:02.725425Z",
     "iopub.status.busy": "2022-01-20T16:06:02.724723Z",
     "iopub.status.idle": "2022-01-20T16:06:02.762254Z",
     "shell.execute_reply": "2022-01-20T16:06:02.761516Z",
     "shell.execute_reply.started": "2022-01-20T16:06:02.725386Z"
    }
   },
   "outputs": [],
   "source": [
    "generator = nn.Sequential(\n",
    "    \n",
    "        nn.ConvTranspose2d(latent_size, 512, kernel_size=4, stride=1, padding=0, bias=False),\n",
    "        nn.BatchNorm2d(512),\n",
    "        nn.ReLU(True),\n",
    "    \n",
    "        nn.ConvTranspose2d(512,256,kernel_size=4,stride=2,padding=1,bias=False),\n",
    "        nn.BatchNorm2d(256),\n",
    "        nn.ReLU(True),\n",
    "    \n",
    "        nn.ConvTranspose2d(256,128,kernel_size=4,stride=2,padding=1,bias=False),\n",
    "        nn.BatchNorm2d(128),\n",
    "        nn.ReLU(True),\n",
    "    \n",
    "        nn.ConvTranspose2d(128,64,kernel_size=4,stride=2,padding=1,bias=False),\n",
    "        nn.BatchNorm2d(64),\n",
    "        nn.ReLU(True),\n",
    "    \n",
    "        nn.ConvTranspose2d(64,3, kernel_size=4,stride=2,padding=1,bias=False),\n",
    "        nn.Tanh()      \n",
    ")"
   ]
  },
  {
   "cell_type": "code",
   "execution_count": 20,
   "metadata": {
    "execution": {
     "iopub.execute_input": "2022-01-20T16:06:04.059821Z",
     "iopub.status.busy": "2022-01-20T16:06:04.059072Z",
     "iopub.status.idle": "2022-01-20T16:06:05.319713Z",
     "shell.execute_reply": "2022-01-20T16:06:05.318924Z",
     "shell.execute_reply.started": "2022-01-20T16:06:04.059775Z"
    }
   },
   "outputs": [],
   "source": [
    "xb = torch.randn(batch_size, latent_size,1,1)\n",
    "generated_images = generator(xb)\n",
    "print(generated_images.shape)\n",
    "show_images(generated_images)"
   ]
  },
  {
   "cell_type": "code",
   "execution_count": 21,
   "metadata": {
    "execution": {
     "iopub.execute_input": "2022-01-20T16:06:09.248954Z",
     "iopub.status.busy": "2022-01-20T16:06:09.248280Z",
     "iopub.status.idle": "2022-01-20T16:06:09.260628Z",
     "shell.execute_reply": "2022-01-20T16:06:09.259717Z",
     "shell.execute_reply.started": "2022-01-20T16:06:09.248914Z"
    }
   },
   "outputs": [],
   "source": [
    "generator = to_device(generator,device)\n",
    "generator"
   ]
  },
  {
   "cell_type": "code",
   "execution_count": 22,
   "metadata": {
    "execution": {
     "iopub.execute_input": "2022-01-20T16:06:10.930078Z",
     "iopub.status.busy": "2022-01-20T16:06:10.929804Z",
     "iopub.status.idle": "2022-01-20T16:06:10.939695Z",
     "shell.execute_reply": "2022-01-20T16:06:10.938757Z",
     "shell.execute_reply.started": "2022-01-20T16:06:10.930047Z"
    }
   },
   "outputs": [],
   "source": [
    "def train_discriminator(real_images, opt_d):\n",
    "    opt_d.zero_grad()\n",
    "    \n",
    "    #passing images through discriminator\n",
    "    real_preds = discriminator(real_images)\n",
    "    real_labels = torch.ones(real_images.size(0),1,device=device)\n",
    "    real_loss = F.binary_cross_entropy(real_preds,real_labels)\n",
    "    real_score = torch.mean(real_preds).item()\n",
    "    \n",
    "    #generateing fake images\n",
    "    latent = torch.randn(batch_size,latent_size, 1,1,device=device)\n",
    "    generated_images = generator(latent)\n",
    "    \n",
    "    #pass fake images through discriminator\n",
    "    fake_labels = torch.zeros(generated_images.size(0),1,device=device)\n",
    "    fake_preds = discriminator(generated_images)\n",
    "    fake_loss = F.binary_cross_entropy(fake_preds,fake_labels)\n",
    "    fake_score = torch.mean(fake_preds).item()\n",
    "    \n",
    "    #updating discriminator weights\n",
    "    loss = real_loss + fake_loss\n",
    "    loss.backward()\n",
    "    opt_d.step()\n",
    "    \n",
    "    return loss, real_score, fake_score"
   ]
  },
  {
   "cell_type": "code",
   "execution_count": 23,
   "metadata": {
    "execution": {
     "iopub.execute_input": "2022-01-20T16:06:12.348848Z",
     "iopub.status.busy": "2022-01-20T16:06:12.348309Z",
     "iopub.status.idle": "2022-01-20T16:06:12.353874Z",
     "shell.execute_reply": "2022-01-20T16:06:12.353220Z",
     "shell.execute_reply.started": "2022-01-20T16:06:12.348811Z"
    }
   },
   "outputs": [],
   "source": [
    "def train_generator(opt_g):\n",
    "   \n",
    "    opt_g.zero_grad()\n",
    "    \n",
    "  \n",
    "    latent = torch.randn(batch_size, latent_size, 1, 1, device=device)\n",
    "    generated_images = generator(latent)\n",
    "  \n",
    "    preds = discriminator(generated_images)\n",
    "    targets = torch.ones(batch_size, 1, device=device)\n",
    "    loss = F.binary_cross_entropy(preds, targets)\n",
    "    \n",
    " \n",
    "    loss.backward()\n",
    "    opt_g.step()\n",
    "    \n",
    "    return loss.item()"
   ]
  },
  {
   "cell_type": "code",
   "execution_count": 24,
   "metadata": {
    "execution": {
     "iopub.execute_input": "2022-01-20T16:06:14.283763Z",
     "iopub.status.busy": "2022-01-20T16:06:14.283434Z",
     "iopub.status.idle": "2022-01-20T16:06:14.287764Z",
     "shell.execute_reply": "2022-01-20T16:06:14.287082Z",
     "shell.execute_reply.started": "2022-01-20T16:06:14.283730Z"
    }
   },
   "outputs": [],
   "source": [
    "from torchvision.utils import save_image"
   ]
  },
  {
   "cell_type": "code",
   "execution_count": 25,
   "metadata": {
    "execution": {
     "iopub.execute_input": "2022-01-20T16:06:16.378562Z",
     "iopub.status.busy": "2022-01-20T16:06:16.377632Z",
     "iopub.status.idle": "2022-01-20T16:06:16.383316Z",
     "shell.execute_reply": "2022-01-20T16:06:16.382453Z",
     "shell.execute_reply.started": "2022-01-20T16:06:16.378514Z"
    }
   },
   "outputs": [],
   "source": [
    "sample_dir = 'generated_cars'\n",
    "os.makedirs(sample_dir, exist_ok=True)"
   ]
  },
  {
   "cell_type": "code",
   "execution_count": 26,
   "metadata": {
    "execution": {
     "iopub.execute_input": "2022-01-20T16:06:22.428620Z",
     "iopub.status.busy": "2022-01-20T16:06:22.428342Z",
     "iopub.status.idle": "2022-01-20T16:06:22.437189Z",
     "shell.execute_reply": "2022-01-20T16:06:22.436145Z",
     "shell.execute_reply.started": "2022-01-20T16:06:22.428589Z"
    }
   },
   "outputs": [],
   "source": [
    "def save_samples(index, latent_tensors, show=True):\n",
    "    generated_images = generator(latent_tensors)\n",
    "    fake_fname = 'generated-images-{0:0=4d}.png'.format(index)\n",
    "    save_image(denorm(generated_images), os.path.join(sample_dir, fake_fname), nrow=8)\n",
    "    print('Saving', fake_fname)\n",
    "    if show:\n",
    "        fig, ax = plt.subplots(figsize=(8, 8))\n",
    "        ax.set_xticks([]); ax.set_yticks([])\n",
    "        ax.imshow(make_grid(generated_images.cpu().detach(), nrow=8).permute(1, 2, 0))"
   ]
  },
  {
   "cell_type": "code",
   "execution_count": 27,
   "metadata": {
    "execution": {
     "iopub.execute_input": "2022-01-20T16:06:23.627363Z",
     "iopub.status.busy": "2022-01-20T16:06:23.627101Z",
     "iopub.status.idle": "2022-01-20T16:06:23.632726Z",
     "shell.execute_reply": "2022-01-20T16:06:23.631830Z",
     "shell.execute_reply.started": "2022-01-20T16:06:23.627334Z"
    }
   },
   "outputs": [],
   "source": [
    "fixed_latent = torch.randn(64, latent_size, 1, 1, device=device)"
   ]
  },
  {
   "cell_type": "code",
   "execution_count": 28,
   "metadata": {
    "execution": {
     "iopub.execute_input": "2022-01-20T16:06:26.229771Z",
     "iopub.status.busy": "2022-01-20T16:06:26.229050Z",
     "iopub.status.idle": "2022-01-20T16:06:31.455945Z",
     "shell.execute_reply": "2022-01-20T16:06:31.455322Z",
     "shell.execute_reply.started": "2022-01-20T16:06:26.229733Z"
    }
   },
   "outputs": [],
   "source": [
    "save_samples(0, fixed_latent)"
   ]
  },
  {
   "cell_type": "code",
   "execution_count": 29,
   "metadata": {
    "execution": {
     "iopub.execute_input": "2022-01-20T16:06:36.217645Z",
     "iopub.status.busy": "2022-01-20T16:06:36.217151Z",
     "iopub.status.idle": "2022-01-20T16:06:36.221604Z",
     "shell.execute_reply": "2022-01-20T16:06:36.220837Z",
     "shell.execute_reply.started": "2022-01-20T16:06:36.217605Z"
    }
   },
   "outputs": [],
   "source": [
    "from tqdm.notebook import tqdm\n",
    "import torch.nn.functional as F"
   ]
  },
  {
   "cell_type": "code",
   "execution_count": 30,
   "metadata": {
    "execution": {
     "iopub.execute_input": "2022-01-20T16:06:44.494551Z",
     "iopub.status.busy": "2022-01-20T16:06:44.494002Z",
     "iopub.status.idle": "2022-01-20T16:06:44.502498Z",
     "shell.execute_reply": "2022-01-20T16:06:44.501842Z",
     "shell.execute_reply.started": "2022-01-20T16:06:44.494509Z"
    }
   },
   "outputs": [],
   "source": [
    "def fit(epochs, lr, start_idx=1):\n",
    "    torch.cuda.empty_cache()\n",
    "    \n",
    "    # Losses & scores\n",
    "    losses_g = []\n",
    "    losses_d = []\n",
    "    real_scores = []\n",
    "    fake_scores = []\n",
    "    \n",
    "    # Create optimizers\n",
    "    opt_d = torch.optim.Adam(discriminator.parameters(), lr=lr, betas=(0.5, 0.999))\n",
    "    opt_g = torch.optim.Adam(generator.parameters(), lr=lr, betas=(0.5, 0.999))\n",
    "    \n",
    "    for epoch in range(epochs):\n",
    "        for real_images, _ in tqdm(train_dl):\n",
    "            # Train discriminator\n",
    "            loss_d, real_score, fake_score = train_discriminator(real_images, opt_d)\n",
    "            # Train generator\n",
    "            loss_g = train_generator(opt_g)\n",
    "            \n",
    "        # Record losses & scores\n",
    "        losses_g.append(loss_g)\n",
    "        losses_d.append(loss_d)\n",
    "        real_scores.append(real_score)\n",
    "        fake_scores.append(fake_score)\n",
    "        \n",
    "        # Log losses & scores (last batch)\n",
    "        print(\"Epoch [{}/{}], loss_g: {:.4f}, loss_d: {:.4f}, real_score: {:.4f}, fake_score: {:.4f}\".format(\n",
    "            epoch+1, epochs, loss_g, loss_d, real_score, fake_score))\n",
    "    \n",
    "        # Save generated images\n",
    "        save_samples(epoch+start_idx, fixed_latent, show=False)\n",
    "    \n",
    "    return losses_g, losses_d, real_scores, fake_scores"
   ]
  },
  {
   "cell_type": "code",
   "execution_count": 31,
   "metadata": {
    "execution": {
     "iopub.execute_input": "2022-01-20T16:06:57.564546Z",
     "iopub.status.busy": "2022-01-20T16:06:57.564257Z",
     "iopub.status.idle": "2022-01-20T16:06:57.568008Z",
     "shell.execute_reply": "2022-01-20T16:06:57.567349Z",
     "shell.execute_reply.started": "2022-01-20T16:06:57.564508Z"
    }
   },
   "outputs": [],
   "source": [
    "lr = 0.0002\n",
    "epochs = 40"
   ]
  },
  {
   "cell_type": "code",
   "execution_count": 32,
   "metadata": {
    "execution": {
     "iopub.execute_input": "2022-01-20T16:07:31.995417Z",
     "iopub.status.busy": "2022-01-20T16:07:31.994758Z",
     "iopub.status.idle": "2022-01-20T17:46:36.758441Z",
     "shell.execute_reply": "2022-01-20T17:46:36.757574Z",
     "shell.execute_reply.started": "2022-01-20T16:07:31.995375Z"
    }
   },
   "outputs": [],
   "source": [
    "history = fit(epochs, lr)"
   ]
  },
  {
   "cell_type": "code",
   "execution_count": 37,
   "metadata": {
    "execution": {
     "iopub.execute_input": "2022-01-20T17:46:36.874613Z",
     "iopub.status.busy": "2022-01-20T17:46:36.874222Z",
     "iopub.status.idle": "2022-01-20T17:46:36.951803Z",
     "shell.execute_reply": "2022-01-20T17:46:36.950945Z",
     "shell.execute_reply.started": "2022-01-20T17:46:36.874576Z"
    }
   },
   "outputs": [],
   "source": [
    "# Save the model checkpoints \n",
    "genModel = torch.save(generator.state_dict(), 'G_cars.ckpt')\n",
    "discModel = torch.save(discriminator.state_dict(), 'D_cars.ckpt')"
   ]
  },
  {
   "cell_type": "code",
   "execution_count": 38,
   "metadata": {
    "execution": {
     "iopub.execute_input": "2022-01-20T17:46:36.953527Z",
     "iopub.status.busy": "2022-01-20T17:46:36.953250Z",
     "iopub.status.idle": "2022-01-20T17:46:36.957561Z",
     "shell.execute_reply": "2022-01-20T17:46:36.956899Z",
     "shell.execute_reply.started": "2022-01-20T17:46:36.953491Z"
    }
   },
   "outputs": [],
   "source": [
    "from IPython.display import Image"
   ]
  },
  {
   "cell_type": "code",
   "execution_count": 39,
   "metadata": {
    "execution": {
     "iopub.execute_input": "2022-01-20T17:46:36.959516Z",
     "iopub.status.busy": "2022-01-20T17:46:36.958771Z",
     "iopub.status.idle": "2022-01-20T17:46:36.982750Z",
     "shell.execute_reply": "2022-01-20T17:46:36.978966Z",
     "shell.execute_reply.started": "2022-01-20T17:46:36.959466Z"
    }
   },
   "outputs": [],
   "source": [
    "Image('./generated_cars/generated-images-0001.png')"
   ]
  },
  {
   "cell_type": "code",
   "execution_count": 47,
   "metadata": {
    "execution": {
     "iopub.execute_input": "2022-01-20T17:56:27.484784Z",
     "iopub.status.busy": "2022-01-20T17:56:27.484514Z",
     "iopub.status.idle": "2022-01-20T17:56:27.501850Z",
     "shell.execute_reply": "2022-01-20T17:56:27.501265Z",
     "shell.execute_reply.started": "2022-01-20T17:56:27.484755Z"
    }
   },
   "outputs": [],
   "source": [
    "Image('./generated_cars/generated-images-0025.png')"
   ]
  },
  {
   "cell_type": "code",
   "execution_count": 42,
   "metadata": {
    "execution": {
     "iopub.execute_input": "2022-01-20T17:46:37.212501Z",
     "iopub.status.busy": "2022-01-20T17:46:37.212065Z",
     "iopub.status.idle": "2022-01-20T17:46:37.230993Z",
     "shell.execute_reply": "2022-01-20T17:46:37.230209Z",
     "shell.execute_reply.started": "2022-01-20T17:46:37.212448Z"
    }
   },
   "outputs": [],
   "source": [
    "Image('./generated_cars/generated-images-0040.png')"
   ]
  },
  {
   "cell_type": "code",
   "execution_count": 48,
   "metadata": {
    "execution": {
     "iopub.execute_input": "2022-01-20T17:57:28.568348Z",
     "iopub.status.busy": "2022-01-20T17:57:28.568094Z",
     "iopub.status.idle": "2022-01-20T17:57:29.139264Z",
     "shell.execute_reply": "2022-01-20T17:57:29.138423Z",
     "shell.execute_reply.started": "2022-01-20T17:57:28.568320Z"
    }
   },
   "outputs": [],
   "source": [
    "import cv2\n",
    "import os\n",
    "\n",
    "vid_fname = 'gans_cars_training.avi'\n",
    "\n",
    "files = [os.path.join(sample_dir, f) for f in os.listdir(sample_dir) if 'generated' in f]\n",
    "files.sort()\n",
    "\n",
    "\n",
    "\n",
    "out = cv2.VideoWriter(vid_fname,cv2.VideoWriter_fourcc(*'XVID'), 1, (530,530))\n",
    "[out.write(cv2.imread(fname)) for fname in files]\n",
    "out.release()"
   ]
  },
  {
   "cell_type": "code",
   "execution_count": 51,
   "metadata": {
    "execution": {
     "iopub.execute_input": "2022-01-20T18:00:27.344238Z",
     "iopub.status.busy": "2022-01-20T18:00:27.343673Z",
     "iopub.status.idle": "2022-01-20T18:00:27.360563Z",
     "shell.execute_reply": "2022-01-20T18:00:27.359782Z",
     "shell.execute_reply.started": "2022-01-20T18:00:27.344198Z"
    }
   },
   "outputs": [],
   "source": [
    "modelGen = torch.load('G_cars.ckpt')\n"
   ]
  },
  {
   "cell_type": "code",
   "execution_count": 52,
   "metadata": {
    "execution": {
     "iopub.execute_input": "2022-01-20T18:00:40.675229Z",
     "iopub.status.busy": "2022-01-20T18:00:40.674739Z",
     "iopub.status.idle": "2022-01-20T18:00:40.690757Z",
     "shell.execute_reply": "2022-01-20T18:00:40.689947Z",
     "shell.execute_reply.started": "2022-01-20T18:00:40.675193Z"
    }
   },
   "outputs": [],
   "source": [
    "modelDisc = torch.load('D_cars.ckpt')"
   ]
  },
  {
   "cell_type": "code",
   "execution_count": 53,
   "metadata": {
    "execution": {
     "iopub.execute_input": "2022-01-20T18:01:22.192566Z",
     "iopub.status.busy": "2022-01-20T18:01:22.192279Z",
     "iopub.status.idle": "2022-01-20T18:01:22.541417Z",
     "shell.execute_reply": "2022-01-20T18:01:22.540765Z",
     "shell.execute_reply.started": "2022-01-20T18:01:22.192526Z"
    }
   },
   "outputs": [],
   "source": [
    "save_samples(41, fixed_latent)"
   ]
  },
  {
   "cell_type": "code",
   "execution_count": 54,
   "metadata": {
    "execution": {
     "iopub.execute_input": "2022-01-20T18:01:31.692527Z",
     "iopub.status.busy": "2022-01-20T18:01:31.692244Z",
     "iopub.status.idle": "2022-01-20T18:01:32.030137Z",
     "shell.execute_reply": "2022-01-20T18:01:32.029542Z",
     "shell.execute_reply.started": "2022-01-20T18:01:31.692487Z"
    }
   },
   "outputs": [],
   "source": [
    "save_samples(42, fixed_latent)"
   ]
  },
  {
   "cell_type": "code",
   "execution_count": 65,
   "metadata": {
    "execution": {
     "iopub.execute_input": "2022-01-20T18:07:33.537425Z",
     "iopub.status.busy": "2022-01-20T18:07:33.536956Z",
     "iopub.status.idle": "2022-01-20T18:07:33.758378Z",
     "shell.execute_reply": "2022-01-20T18:07:33.757213Z",
     "shell.execute_reply.started": "2022-01-20T18:07:33.537387Z"
    }
   },
   "outputs": [],
   "source": [
    "save_samples(46, torch.randn(32, 128, 1, 1, device=device))"
   ]
  }
 ],
 "metadata": {
  "kernelspec": {
   "display_name": "Python 3",
   "language": "python",
   "name": "python3"
  },
  "language_info": {
   "codemirror_mode": {
    "name": "ipython",
    "version": 3
   },
   "file_extension": ".py",
   "mimetype": "text/x-python",
   "name": "python",
   "nbconvert_exporter": "python",
   "pygments_lexer": "ipython3",
   "version": "3.8.8"
  }
 },
 "nbformat": 4,
 "nbformat_minor": 4
}
